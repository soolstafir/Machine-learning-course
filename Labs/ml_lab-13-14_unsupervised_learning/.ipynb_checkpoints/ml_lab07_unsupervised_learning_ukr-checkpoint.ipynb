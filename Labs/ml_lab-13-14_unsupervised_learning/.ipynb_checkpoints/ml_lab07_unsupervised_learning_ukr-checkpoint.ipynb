{
 "cells": [
  {
   "cell_type": "markdown",
   "metadata": {},
   "source": [
    "# <center>Лабораторна робота №7\n",
    "## <center>Навчання без вчителя: метод головних компонент і кластеризація"
   ]
  },
  {
   "cell_type": "markdown",
   "metadata": {},
   "source": [
    "У цьому завданні ми розберемося з тим, як працюють методи зниження розмірності і кластеризації даних. Заодно ще раз попрактікуемся в завданні класифікації.\n",
    "\n",
    "Ми будемо працювати з набором даних [Samsung Human Activity Recognition](https://archive.ics.uci.edu/ml/datasets/Human+Activity+Recognition+Using+Smartphones). Завантажте дані [звідси](https://drive.google.com/file/d/14RukQ0ylM2GCdViUHBBjZ2imCaYcjlux/view?usp=sharing). Дані надходять з акселерометрів і гіроскопів мобільних телефонів Samsung Galaxy S3 (докладніше про ознаки - за посиланням на UCI вище), також відомий вид активності людини з телефоном в кишені - чи ходив він, стояв, лежав, сидів або йшов вгору / вниз по сходах.\n",
    "\n",
    "Спочатку ми представимо, що вид активності нам невідомо, і спробуємо кластеризувати людей чисто на основі наявних свідчень. Потім вирішимо завдання визначення виду фізичної активності саме як завдання класифікації.\n",
    "\n",
    "**Заповніть код в клітинах (де написано *Ваш код тут*).**"
   ]
  },
  {
   "cell_type": "code",
   "execution_count": 1,
   "metadata": {
    "collapsed": true,
    "jupyter": {
     "outputs_hidden": true
    }
   },
   "outputs": [],
   "source": [
    "import numpy as np\n",
    "import pandas as pd\n",
    "import seaborn as sns\n",
    "from tqdm import tqdm_notebook\n",
    "\n",
    "%matplotlib inline\n",
    "from matplotlib import pyplot as plt\n",
    "plt.style.use(['seaborn-darkgrid'])\n",
    "plt.rcParams['figure.figsize'] = (12, 9)\n",
    "plt.rcParams['font.family'] = 'DejaVu Sans'\n",
    "\n",
    "from sklearn import metrics\n",
    "from sklearn.cluster import KMeans, AgglomerativeClustering, SpectralClustering\n",
    "from sklearn.decomposition import PCA\n",
    "from sklearn.model_selection import GridSearchCV\n",
    "from sklearn.preprocessing import StandardScaler\n",
    "from sklearn.svm import LinearSVC\n",
    "\n",
    "RANDOM_STATE = 17"
   ]
  },
  {
   "cell_type": "code",
   "execution_count": 2,
   "metadata": {
    "collapsed": true,
    "jupyter": {
     "outputs_hidden": true
    }
   },
   "outputs": [],
   "source": [
    "X_train = np.loadtxt(\"samsung_HAR/samsung_train.txt\")\n",
    "y_train = np.loadtxt(\"samsung_HAR/samsung_train_labels.txt\").astype(int)\n",
    "\n",
    "X_test = np.loadtxt(\"samsung_HAR/samsung_test.txt\")\n",
    "y_test = np.loadtxt(\"samsung_HAR/samsung_test_labels.txt\").astype(int)"
   ]
  },
  {
   "cell_type": "code",
   "execution_count": 3,
   "metadata": {
    "collapsed": true,
    "jupyter": {
     "outputs_hidden": true
    }
   },
   "outputs": [],
   "source": [
    "# Проверим размерности\n",
    "assert(X_train.shape == (7352, 561) and y_train.shape == (7352,))\n",
    "assert(X_test.shape == (2947, 561) and y_test.shape == (2947,))"
   ]
  },
  {
   "cell_type": "markdown",
   "metadata": {},
   "source": [
    "Для кластеризації нам не потрібен вектор відповідей, тому будемо працювати з об'єднанням навчальної та тестової вибірок. Об'єднайте *X_train* с *X_test*, а *y_train* – с *y_test*. "
   ]
  },
  {
   "cell_type": "code",
   "execution_count": 4,
   "metadata": {
    "collapsed": true,
    "jupyter": {
     "outputs_hidden": true
    }
   },
   "outputs": [],
   "source": [
    "# Ваш код здесь\n",
    "X = \n",
    "y = "
   ]
  },
  {
   "cell_type": "markdown",
   "metadata": {},
   "source": [
    "Визначимо число унікальних значень міток цільового класу."
   ]
  },
  {
   "cell_type": "code",
   "execution_count": 5,
   "metadata": {},
   "outputs": [
    {
     "data": {
      "text/plain": [
       "array([1, 2, 3, 4, 5, 6])"
      ]
     },
     "execution_count": 5,
     "metadata": {},
     "output_type": "execute_result"
    }
   ],
   "source": [
    "np.unique(y)"
   ]
  },
  {
   "cell_type": "code",
   "execution_count": 6,
   "metadata": {
    "collapsed": true,
    "jupyter": {
     "outputs_hidden": true
    }
   },
   "outputs": [],
   "source": [
    "n_classes = np.unique(y).size"
   ]
  },
  {
   "cell_type": "markdown",
   "metadata": {},
   "source": [
    "[Ці мітки відсутні:](https://archive.ics.uci.edu/ml/machine-learning-databases/00240/UCI%20HAR%20Dataset.names)\n",
    "- 1 - ходьбі\n",
    "- 2 - підйому вгору по сходах\n",
    "- 3 - спуску по сходах\n",
    "- 4 - сидіння\n",
    "- 5 - стояння\n",
    "- 6 - лежання"
   ]
  },
  {
   "cell_type": "markdown",
   "metadata": {},
   "source": [
    "Відмасштабуйте вибірку за допомогою `StandardScaler` з параметрами за замовчуванням."
   ]
  },
  {
   "cell_type": "code",
   "execution_count": 9,
   "metadata": {
    "collapsed": true,
    "jupyter": {
     "outputs_hidden": true
    }
   },
   "outputs": [],
   "source": [
    "# Ваш код здесь\n",
    "scaler = \n",
    "X_scaled = "
   ]
  },
  {
   "cell_type": "markdown",
   "metadata": {},
   "source": [
    "Знижуємо розмірність за допомогою PCA, залишаючи стільки компонент, скільки потрібно для того, щоб пояснити як мінімум 90% дисперсії вихідних (отмасштабовані) даних. Використовуйте отмасштабовані вибірку і зафіксуйте random_state (константа RANDOM_STATE)."
   ]
  },
  {
   "cell_type": "code",
   "execution_count": 10,
   "metadata": {
    "collapsed": true,
    "jupyter": {
     "outputs_hidden": true
    }
   },
   "outputs": [],
   "source": [
    "# Ваш код здесь\n",
    "pca = \n",
    "X_pca = "
   ]
  },
  {
   "cell_type": "markdown",
   "metadata": {},
   "source": [
    "**Питання 1:**<br>\n",
    "Яку мінімальну кількість головних компонент потрібно виділити, щоб пояснити 90% дисперсії вихідних (отмасштабовані) даних?"
   ]
  },
  {
   "cell_type": "code",
   "execution_count": 1,
   "metadata": {
    "collapsed": true,
    "jupyter": {
     "outputs_hidden": true
    }
   },
   "outputs": [],
   "source": [
    "# Ваш код здесь"
   ]
  },
  {
   "cell_type": "markdown",
   "metadata": {},
   "source": [
    "**Варіанти:**\n",
    "- 56 \n",
    "- 65\n",
    "- 66\n",
    "- 193"
   ]
  },
  {
   "cell_type": "markdown",
   "metadata": {},
   "source": [
    "**Питання 2:** <br>\n",
    "Скільки відсотків дисперсії припадає на першу головну компоненту? Округлите до цілих відсотків.\n",
    "\n",
    "**Варіанти:**\n",
    "- 45\n",
    "- 51\n",
    "- 56\n",
    "- 61"
   ]
  },
  {
   "cell_type": "code",
   "execution_count": 4,
   "metadata": {
    "collapsed": true,
    "jupyter": {
     "outputs_hidden": true
    }
   },
   "outputs": [],
   "source": [
    "# Ваш код здесь"
   ]
  },
  {
   "cell_type": "markdown",
   "metadata": {},
   "source": [
    "Візуалізують дані в проекції на перші дві головні компоненти."
   ]
  },
  {
   "cell_type": "code",
   "execution_count": 5,
   "metadata": {
    "collapsed": true,
    "jupyter": {
     "outputs_hidden": true
    }
   },
   "outputs": [],
   "source": [
    "# Ваш код здесь\n",
    "plt.scatter(, , c=y, s=20, cmap='viridis');"
   ]
  },
  {
   "cell_type": "markdown",
   "metadata": {},
   "source": [
    "**Питання 3:** <br>\n",
    "Якщо все вийшло правильно, Ви побачите скільки-то кластерів, майже ідеально відокремлених один від одного. Які види активності входять в ці кластери? <br>\n",
    "\n",
    "**Відповідь:**\n",
    "- 1 кластер: всі 6 активностей\n",
    "- 2 кластера: (ходьба, підйом вгору по сходах, спуск по сходах) і (сидіння, стояння, лежання)\n",
    "- 3 кластера: (ходьба), (підйом вгору по сходах, спуск по сходах) і (сидіння, стояння, лежання)\n",
    "- 6 кластерів"
   ]
  },
  {
   "cell_type": "markdown",
   "metadata": {},
   "source": [
    "------------------------------"
   ]
  },
  {
   "cell_type": "markdown",
   "metadata": {},
   "source": [
    "Зробіть кластеризацию даних методом `KMeans`, навчивши модель на даних зі зниженою за рахунок PCA розмірністю. В даному випадку ми підкажемо, що потрібно шукати саме 6 кластерів, але в загальному випадку ми не будемо знати, скільки кластерів треба шукати.\n",
    "\n",
    "параметри:\n",
    "\n",
    "- **n_clusters** = n_classes (число унікальних міток цільового класу)\n",
    "- **n_init** = 100\n",
    "- **random_state** = RANDOM_STATE (для відтворюваності результату)\n",
    "\n",
    "Інші параметри зі значеннями за замовчуванням."
   ]
  },
  {
   "cell_type": "code",
   "execution_count": 20,
   "metadata": {
    "collapsed": true,
    "jupyter": {
     "outputs_hidden": true
    }
   },
   "outputs": [],
   "source": [
    "# Ваш код здесь"
   ]
  },
  {
   "cell_type": "markdown",
   "metadata": {},
   "source": [
    "Візуалізують дані в проекції на перші дві головні компоненти. Розфарбуйте точки відповідно до отриманих мітками кластерів."
   ]
  },
  {
   "cell_type": "code",
   "execution_count": null,
   "metadata": {
    "collapsed": true,
    "jupyter": {
     "outputs_hidden": true
    }
   },
   "outputs": [],
   "source": [
    "# Ваш код здесь\n",
    "plt.scatter(, , c=cluster_labels, s=20,  cmap='viridis');"
   ]
  },
  {
   "cell_type": "markdown",
   "metadata": {},
   "source": [
    "Подивіться на відповідність між мітками кластерів і вихідними мітками класів і на те, які види активностей алгоритм `KMeans` плутає."
   ]
  },
  {
   "cell_type": "code",
   "execution_count": 6,
   "metadata": {
    "collapsed": true,
    "jupyter": {
     "outputs_hidden": true
    }
   },
   "outputs": [],
   "source": [
    "tab = crosstab(y, cluster_labels, margins=True)\n",
    "tab.index = ['ходьба', 'подъем вверх по лестнице', \n",
    "             'спуск по лестнице', 'сидение', 'стояние', 'лежание', 'все']\n",
    "tab.columns = ['cluster' + str(i + 1) for i in range(6)] + ['все']\n",
    "tab"
   ]
  },
  {
   "cell_type": "markdown",
   "metadata": {},
   "source": [
    "Бачимо, що кожному класу (тобто кожної активності) відповідають кілька кластерів. Давайте подивимося на максимальну частку об'єктів в класі, віднесених до якогось одного кластеру. Це буде простий метрикою, що характеризує, наскільки легко клас відділяється від інших при кластеризації.\n",
    "\n",
    "Приклад: якщо для класу \"спуск по сходах\", в якому 1406 об'єктів, розподіл кластерів таке:\n",
    " - кластер 1 - 900\n",
    " - кластер 3 - 500\n",
    " - кластер 6 - 6,\n",
    " \n",
    "то така частка буде 900/1406 $ \\ approx $ 0.64.\n",
    " \n",
    "\n",
    "**Питання 4:** <br>\n",
    "Який вид активності відокремився від інших найкраще в термінах простий метрики, описаної вище? <br>\n",
    "\n",
    "**Відповідь:**\n",
    "- ходьба\n",
    "- стояння\n",
    "- спуск по сходах\n",
    "- перераховані варіанти не підходять"
   ]
  },
  {
   "cell_type": "markdown",
   "metadata": {},
   "source": [
    "Видно, що kMeans не дуже добре відрізняє тільки активності друг від друга. Використовуйте метод ліктя, щоб вибрати оптимальну кількість кластерів. Параметри алгоритму і дані використовуємо ті ж, що раніше, міняємо тільки `n_clusters`."
   ]
  },
  {
   "cell_type": "code",
   "execution_count": 31,
   "metadata": {},
   "outputs": [
    {
     "data": {
      "application/vnd.jupyter.widget-view+json": {
       "model_id": "dadaee4f54f34fa09718c0f06b95124f"
      }
     },
     "metadata": {},
     "output_type": "display_data"
    },
    {
     "name": "stdout",
     "output_type": "stream",
     "text": [
      "\n",
      "\n"
     ]
    }
   ],
   "source": [
    "# Ваш код здесь\n",
    "inertia = []\n",
    "for k in tqdm_notebook(range(1, n_classes + 1)):\n",
    "    #\n",
    "    #"
   ]
  },
  {
   "cell_type": "markdown",
   "metadata": {},
   "source": [
    "**Питання 5:** <br>\n",
    "Яка кількість кластерів оптимально вибрати, згідно з методом ліктя? <br>\n",
    "\n",
    "**Відповідь:**\n",
    "- 1\n",
    "- 2\n",
    "- 3\n",
    "- 4"
   ]
  },
  {
   "cell_type": "markdown",
   "metadata": {},
   "source": [
    "------------------------"
   ]
  },
  {
   "cell_type": "markdown",
   "metadata": {},
   "source": [
    "Спробуємо ще один метод кластеризації, який описувався в статті - агломеративного кластеризацию."
   ]
  },
  {
   "cell_type": "code",
   "execution_count": 33,
   "metadata": {
    "collapsed": true,
    "jupyter": {
     "outputs_hidden": true
    }
   },
   "outputs": [],
   "source": [
    "ag = AgglomerativeClustering(n_clusters=n_classes, \n",
    "                             linkage='ward').fit(X_pca)"
   ]
  },
  {
   "cell_type": "markdown",
   "metadata": {},
   "source": [
    "Порахуйте Adjusted Rand Index ( `sklearn.metrics`) для отриманого розбиття на кластери і для` KMeans` з параметрами із завдання до 4 питання."
   ]
  },
  {
   "cell_type": "code",
   "execution_count": 11,
   "metadata": {
    "collapsed": true,
    "jupyter": {
     "outputs_hidden": true
    }
   },
   "outputs": [],
   "source": [
    "# Ваш код здесь\n"
   ]
  },
  {
   "cell_type": "markdown",
   "metadata": {},
   "source": [
    "-------------------------------"
   ]
  }
 ],
 "metadata": {
  "anaconda-cloud": {},
  "kernelspec": {
   "display_name": "Python 3",
   "language": "python",
   "name": "python3"
  },
  "language_info": {
   "codemirror_mode": {
    "name": "ipython",
    "version": 3
   },
   "file_extension": ".py",
   "mimetype": "text/x-python",
   "name": "python",
   "nbconvert_exporter": "python",
   "pygments_lexer": "ipython3",
   "version": "3.7.5"
  }
 },
 "nbformat": 4,
 "nbformat_minor": 4
}
